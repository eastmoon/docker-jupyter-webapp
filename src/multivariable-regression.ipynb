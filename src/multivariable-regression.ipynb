{
 "cells": [
  {
   "cell_type": "code",
   "execution_count": 1,
   "id": "confirmed-aaron",
   "metadata": {},
   "outputs": [],
   "source": [
    "# Import library\n",
    "import numpy as np\n",
    "import pandas as pd\n",
    "import matplotlib.pyplot as plt"
   ]
  },
  {
   "cell_type": "code",
   "execution_count": 3,
   "id": "impressed-wrist",
   "metadata": {},
   "outputs": [],
   "source": [
    "# Make dataset\n",
    "size=[5,10,12,14,18,30,33,55,65,80,100,150]\n",
    "distance=[50,20,70,100,200,150,30,50,70,35,40,20]\n",
    "price=[300,400,450,800,1200,1400,2000,2500,2800,3000,3500,9000]\n",
    "series_dict={'X1':size,'X2':distance,'y':price}\n",
    "df=pd.DataFrame(series_dict)\n",
    "X=df[['X1','X2']]\n",
    "y=df[['y']]"
   ]
  },
  {
   "cell_type": "code",
   "execution_count": 6,
   "id": "religious-bobby",
   "metadata": {},
   "outputs": [
    {
     "name": "stdout",
     "output_type": "stream",
     "text": [
      "Liner regression model\n",
      "coefficients :  [[51.94345057  1.62218727]]\n",
      "intercept :  [-309.68167455]\n",
      "score :  0.9071864679091037\n"
     ]
    }
   ],
   "source": [
    "# Train linear regression mode\n",
    "from sklearn import linear_model\n",
    "regr=linear_model.LinearRegression()\n",
    "regr.fit(X, y)\n",
    "print(\"Liner regression model\") \n",
    "print(\"coefficients : \", regr.coef_)\n",
    "print(\"intercept : \", regr.intercept_)\n",
    "print(\"score : \", regr.score(X, y))"
   ]
  },
  {
   "cell_type": "code",
   "execution_count": null,
   "id": "combined-street",
   "metadata": {},
   "outputs": [],
   "source": []
  }
 ],
 "metadata": {
  "kernelspec": {
   "display_name": "Python 3",
   "language": "python",
   "name": "python3"
  },
  "language_info": {
   "codemirror_mode": {
    "name": "ipython",
    "version": 3
   },
   "file_extension": ".py",
   "mimetype": "text/x-python",
   "name": "python",
   "nbconvert_exporter": "python",
   "pygments_lexer": "ipython3",
   "version": "3.8.8"
  }
 },
 "nbformat": 4,
 "nbformat_minor": 5
}
